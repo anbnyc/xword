{
 "cells": [
  {
   "cell_type": "markdown",
   "metadata": {
    "collapsed": true,
    "slideshow": {
     "slide_type": "skip"
    }
   },
   "source": [
    "PyGotham Talk, 10/6/17"
   ]
  },
  {
   "cell_type": "code",
   "execution_count": 31,
   "metadata": {
    "slideshow": {
     "slide_type": "skip"
    }
   },
   "outputs": [],
   "source": [
    "## 1\n",
    "from lxml import html\n",
    "from utils import *\n",
    "import requests\n",
    "import calendar\n",
    "import json\n",
    "import string\n",
    "import re\n",
    "\n",
    "## 2\n",
    "from __future__ import print_function\n",
    "from PIL import Image\n",
    "#brew install tesseract\n",
    "import pytesseract\n",
    "import sys\n",
    "\n",
    "## 3\n",
    "\n",
    "## 4\n",
    "import spacy\n",
    "nlp = spacy.load('en')\n",
    "\n",
    "import urllib\n",
    "import functools\n",
    "import itertools\n",
    "import numpy as np\n",
    "import nltk\n",
    "#nltk.download()\n",
    "from nltk.stem.porter import *\n",
    "from nltk.corpus import wordnet as wn\n",
    "from nltk.corpus import stopwords\n",
    "stemmer = PorterStemmer()\n",
    "\n",
    "from PyDictionary import PyDictionary\n",
    "dictionary=PyDictionary()\n",
    "\n",
    "## 5\n",
    "import pandas as pd"
   ]
  },
  {
   "cell_type": "code",
   "execution_count": 15,
   "metadata": {
    "slideshow": {
     "slide_type": "skip"
    }
   },
   "outputs": [],
   "source": [
    "def sortVocab(maxlen):\n",
    "    sortedvocab = {}\n",
    "    keys = []\n",
    "    for i in [w for w in nlp.vocab if w.has_vector and w.orth_ == re.sub('[^A-Za-z]','',w.orth_) and w.orth_.islower() and len(w.orth_) <= maxlen]:\n",
    "        k = len(i.orth_)\n",
    "        if k not in keys:\n",
    "            sortedvocab[k] = []\n",
    "            keys.append(k)\n",
    "        sortedvocab[k].append(i)\n",
    "    return sortedvocab\n",
    "cosine = lambda v1, v2: np.dot(v1, v2) / (np.linalg.norm(v1) * np.linalg.norm(v2))\n",
    "vocab = sortVocab(15)"
   ]
  },
  {
   "cell_type": "markdown",
   "metadata": {
    "slideshow": {
     "slide_type": "slide"
    }
   },
   "source": [
    "# Solving a Crossword Puzzle the Hard Way\n",
    "## Alec Barrett\n",
    "### PyGotham\n",
    "### October 7, 2017"
   ]
  },
  {
   "cell_type": "markdown",
   "metadata": {
    "slideshow": {
     "slide_type": "slide"
    }
   },
   "source": [
    "### Outline\n",
    "1. NYT Crossword\n",
    "2. The Task\n",
    "3. NLP\n",
    "4. My Solver\n",
    "5. Conclusion"
   ]
  },
  {
   "cell_type": "markdown",
   "metadata": {
    "slideshow": {
     "slide_type": "slide"
    }
   },
   "source": [
    "## I. New York Times Crossword"
   ]
  },
  {
   "cell_type": "markdown",
   "metadata": {
    "slideshow": {
     "slide_type": "subslide"
    }
   },
   "source": [
    "### Puzzle features\n",
    "* American-style\n",
    "* Get more difficult as the week goes on\n",
    "* 15 x 15 every day except Sunday (21 x 21)\n",
    "* ~75-80 clue/answer pairs"
   ]
  },
  {
   "cell_type": "markdown",
   "metadata": {
    "slideshow": {
     "slide_type": "subslide"
    }
   },
   "source": [
    "### Relevant skills\n",
    "* Large vocabulary\n",
    "* Encyclopedic knowledge\n",
    "* Lateral thinking/word association\n",
    "* Filter by length and known letters"
   ]
  },
  {
   "cell_type": "markdown",
   "metadata": {
    "slideshow": {
     "slide_type": "slide"
    }
   },
   "source": [
    "## II. The Task"
   ]
  },
  {
   "cell_type": "markdown",
   "metadata": {
    "slideshow": {
     "slide_type": "subslide"
    }
   },
   "source": [
    "### Computer strengths...\n",
    "* Searching a corpus for a word\n",
    "* Filtering a list based on a set of conditions\n",
    "\n",
    "### ...and weaknesses\n",
    "* Interpreting puns\n",
    "* Considering pairs of answers together"
   ]
  },
  {
   "cell_type": "markdown",
   "metadata": {
    "slideshow": {
     "slide_type": "subslide"
    }
   },
   "source": [
    "### Strategy\n",
    "* Generate a list of candidates\n",
    "* Identify the correct answer based on intersecting letters\n",
    "\n",
    "### Sources of candidates\n",
    "* Google Knowledge Graph search API\n",
    "* Wikipedia search API\n",
    "* Dictionary (PyDictionary)\n",
    "* WordNet (NLTK)\n",
    "* Word Vectors (spaCy)"
   ]
  },
  {
   "cell_type": "markdown",
   "metadata": {
    "slideshow": {
     "slide_type": "subslide"
    }
   },
   "source": [
    "### Sources of candidates\n",
    "#### Encyclopedias\n",
    "* Google Knowledge Graph search API\n",
    "* Wikipedia search API\n",
    "\n",
    "#### Dictionaries\n",
    "* Dictionary (PyDictionary)\n",
    "* WordNet (NLTK)\n",
    "* Word Vectors (spaCy)"
   ]
  },
  {
   "cell_type": "markdown",
   "metadata": {
    "slideshow": {
     "slide_type": "subslide"
    }
   },
   "source": [
    "### When to use each\n",
    "|Condition |Example|Tools\n",
    "|----------             |--------|-----\n",
    "|References another cell|`Slippery 1-Across`|*Skip*\n",
    "|Single word|`Stops`|Dictionary, WordNet, Vectors\n",
    "|Space in the clue|`___ of Sandwich`|KG, Wiki, Vectors\n",
    "|Else|`Gas company famous for its toy trucks`|KG, Wiki, Vectors\n",
    "|+if we can extract one word|`Distort, as data`|+Dictionary, WordNet"
   ]
  },
  {
   "cell_type": "markdown",
   "metadata": {
    "slideshow": {
     "slide_type": "slide"
    }
   },
   "source": [
    "## III. Natural Language Processing"
   ]
  },
  {
   "cell_type": "markdown",
   "metadata": {
    "slideshow": {
     "slide_type": "subslide"
    }
   },
   "source": [
    "### Two NLP Libraries\n",
    "1. **Wordnet (NLTK)**\n",
    "2. Word Vectors (spaCy)"
   ]
  },
  {
   "cell_type": "markdown",
   "metadata": {
    "slideshow": {
     "slide_type": "subslide"
    }
   },
   "source": [
    "### NLTK: Relationships between words\n",
    "* Hypernyms (less specific)\n",
    "* Root hypernyms (much less specific)\n",
    "* Hyponyms (more specific)\n",
    "* Member holonyms (more/equally specific)"
   ]
  },
  {
   "cell_type": "code",
   "execution_count": 43,
   "metadata": {
    "scrolled": true,
    "slideshow": {
     "slide_type": "subslide"
    }
   },
   "outputs": [],
   "source": [
    "def noSpace(word):\n",
    "    return re.sub('_','',word)\n",
    "\n",
    "def searchWordnetSpaceDemo(synset, length, candidates=set(), iteration=2):\n",
    "    print('--> ',synset,\"(iteration\",iteration,\")\")\n",
    "    if synset.lemma_names():\n",
    "        candidates.update({ \n",
    "            noSpace(lemmaname) for lemmaname in synset.lemma_names() if noSpace(lemmaname) == length \n",
    "        })\n",
    "    for attr in ['root_hypernyms','member_holonyms','hyponyms','hypernyms']:\n",
    "        if getattr(synset,attr)():\n",
    "            for nym in getattr(synset,attr)():\n",
    "                results = { noSpace(lemma.name()) for lemma in nym.lemmas() if len(noSpace(lemma.name())) == length }\n",
    "                if len(results):\n",
    "                    print(attr,results)\n",
    "                if iteration < 3:\n",
    "                    searchWordnetSpaceDemo(nym,length,candidates,iteration+1)"
   ]
  },
  {
   "cell_type": "code",
   "execution_count": 44,
   "metadata": {},
   "outputs": [
    {
     "name": "stdout",
     "output_type": "stream",
     "text": [
      "2 [Synset('somersault.n.01'), Synset('somersault.v.01')]\n",
      "-->  Synset('somersault.n.01') (iteration 2 )\n",
      "-->  Synset('entity.n.01') (iteration 3 )\n",
      "-->  Synset('flip-flop.n.04') (iteration 3 )\n",
      "hypernyms {'flip'}\n",
      "-->  Synset('tumble.n.01') (iteration 3 )\n",
      "hyponyms {'flip'}\n",
      "-->  Synset('somersault.v.01') (iteration 2 )\n",
      "root_hypernyms {'move'}\n",
      "-->  Synset('move.v.03') (iteration 3 )\n",
      "root_hypernyms {'move'}\n",
      "hyponyms {'stir'}\n",
      "hyponyms {'take'}\n",
      "hyponyms {'beat'}\n",
      "hyponyms {'flap', 'beat'}\n",
      "hyponyms {'bolt'}\n",
      "hyponyms {'buck', 'jerk'}\n",
      "hyponyms {'cant', 'tilt'}\n",
      "hyponyms {'tilt'}\n",
      "hyponyms {'chop'}\n",
      "hyponyms {'roil', 'boil', 'moil'}\n",
      "hyponyms {'duck'}\n",
      "hyponyms {'exit'}\n",
      "hyponyms {'flex', 'bend'}\n",
      "hyponyms {'funk'}\n",
      "hyponyms {'flip'}\n",
      "hyponyms {'flux', 'flow'}\n",
      "hyponyms {'grab'}\n",
      "hyponyms {'jerk'}\n",
      "hyponyms {'jolt'}\n",
      "hyponyms {'jump', 'leap'}\n",
      "hyponyms {'jump', 'leap'}\n",
      "hyponyms {'lean', 'list'}\n",
      "hyponyms {'hurl'}\n",
      "hyponyms {'mill'}\n",
      "hyponyms {'mope'}\n",
      "hyponyms {'give'}\n",
      "hyponyms {'beat'}\n",
      "hyponyms {'roll', 'wave', 'flap'}\n",
      "hyponyms {'flow', 'feed'}\n",
      "hyponyms {'part'}\n",
      "hyponyms {'slip'}\n",
      "hyponyms {'snap'}\n",
      "hyponyms {'snap'}\n",
      "hyponyms {'snap'}\n",
      "hyponyms {'jump'}\n",
      "hyponyms {'slip'}\n",
      "hyponyms {'stir'}\n",
      "hyponyms {'trip'}\n",
      "hyponyms {'sail'}\n",
      "hyponyms {'turn'}\n",
      "hyponyms {'turn'}\n",
      "hyponyms {'worm'}\n",
      "-->  Synset('roll_over.v.01') (iteration 3 )\n",
      "root_hypernyms {'move'}\n",
      "hypernyms {'turn'}\n"
     ]
    }
   ],
   "source": [
    "synonyms = wn.synsets('somersault')\n",
    "print(len(synonyms), synonyms)\n",
    "for syn in synonyms:\n",
    "    searchWordnetSpaceDemo(syn,4)"
   ]
  },
  {
   "cell_type": "markdown",
   "metadata": {
    "slideshow": {
     "slide_type": "subslide"
    }
   },
   "source": [
    "### NLTK: Stopwords\n",
    "* Remove common words"
   ]
  },
  {
   "cell_type": "code",
   "execution_count": 32,
   "metadata": {
    "slideshow": {
     "slide_type": "fragment"
    }
   },
   "outputs": [
    {
     "name": "stdout",
     "output_type": "stream",
     "text": [
      "['i', 'me', 'my', 'myself', 'we', 'our', 'ours', 'ourselves', 'you', 'your', 'yours', 'yourself', 'yourselves', 'he', 'him', 'his', 'himself', 'she', 'her', 'hers', 'herself', 'it', 'its', 'itself', 'they', 'them', 'their', 'theirs', 'themselves', 'what', 'which', 'who', 'whom', 'this', 'that', 'these', 'those', 'am', 'is', 'are', 'was', 'were', 'be', 'been', 'being', 'have', 'has', 'had', 'having', 'do', 'does', 'did', 'doing', 'a', 'an', 'the', 'and', 'but', 'if', 'or', 'because', 'as', 'until', 'while', 'of', 'at', 'by', 'for', 'with', 'about', 'against', 'between', 'into', 'through', 'during', 'before', 'after', 'above', 'below', 'to', 'from', 'up', 'down', 'in', 'out', 'on', 'off', 'over', 'under', 'again', 'further', 'then', 'once', 'here', 'there', 'when', 'where', 'why', 'how', 'all', 'any', 'both', 'each', 'few', 'more', 'most', 'other', 'some', 'such', 'no', 'nor', 'not', 'only', 'own', 'same', 'so', 'than', 'too', 'very', 's', 't', 'can', 'will', 'just', 'don', 'should', 'now', 'd', 'll', 'm', 'o', 're', 've', 'y', 'ain', 'aren', 'couldn', 'didn', 'doesn', 'hadn', 'hasn', 'haven', 'isn', 'ma', 'mightn', 'mustn', 'needn', 'shan', 'shouldn', 'wasn', 'weren', 'won', 'wouldn']\n"
     ]
    }
   ],
   "source": [
    "print(stopwords.words('english'))"
   ]
  },
  {
   "cell_type": "markdown",
   "metadata": {
    "slideshow": {
     "slide_type": "subslide"
    }
   },
   "source": [
    "### NLTK: Parts of Speech\n",
    "* Extract most relevant information\n",
    "* Determine case/tense of answer"
   ]
  },
  {
   "cell_type": "code",
   "execution_count": 6,
   "metadata": {
    "slideshow": {
     "slide_type": "fragment"
    }
   },
   "outputs": [
    {
     "name": "stdout",
     "output_type": "stream",
     "text": [
      "[('Butcher', 'NNP'), (\"'s\", 'POS'), ('offerings', 'NNS')]\n"
     ]
    }
   ],
   "source": [
    "print(nltk.pos_tag(nltk.word_tokenize(\"Butcher's offerings\")))"
   ]
  },
  {
   "cell_type": "code",
   "execution_count": 7,
   "metadata": {
    "slideshow": {
     "slide_type": "fragment"
    }
   },
   "outputs": [
    {
     "name": "stdout",
     "output_type": "stream",
     "text": [
      "[('butcher', 'NN'), (\"'s\", 'POS'), ('offerings', 'NNS')]\n"
     ]
    }
   ],
   "source": [
    "print(nltk.pos_tag(nltk.word_tokenize(\"butcher's offerings\")))"
   ]
  },
  {
   "cell_type": "code",
   "execution_count": 8,
   "metadata": {
    "slideshow": {
     "slide_type": "fragment"
    }
   },
   "outputs": [
    {
     "data": {
      "text/plain": [
       "['jump', 'ice', 'rink']"
      ]
     },
     "execution_count": 8,
     "metadata": {},
     "output_type": "execute_result"
    }
   ],
   "source": [
    "clue = \"Jump in an ice rink\"\n",
    "[nlp.vocab[x.lemma_].lower_ for x in nlp(clue.lower()) if x.tag_ in [\"NNS\",\"NNPS\",\"NN\",\"NNP\"]]"
   ]
  },
  {
   "cell_type": "markdown",
   "metadata": {
    "slideshow": {
     "slide_type": "subslide"
    }
   },
   "source": [
    "### Two NLP Libraries\n",
    "1. Wordnet (NLTK)\n",
    "2. **Word Vectors (spaCy)**"
   ]
  },
  {
   "cell_type": "markdown",
   "metadata": {
    "slideshow": {
     "slide_type": "subslide"
    }
   },
   "source": [
    "### spaCy: Word Vectors\n",
    "* Million-word dictionary\n",
    "* GloVe\n",
    "* 300-element numpy array"
   ]
  },
  {
   "cell_type": "markdown",
   "metadata": {
    "slideshow": {
     "slide_type": "subslide"
    }
   },
   "source": [
    "### spacy: Word Vectors\n",
    "* `King - Man + Woman = Queen`"
   ]
  },
  {
   "cell_type": "code",
   "execution_count": 9,
   "metadata": {
    "scrolled": true,
    "slideshow": {
     "slide_type": "subslide"
    }
   },
   "outputs": [
    {
     "data": {
      "text/plain": [
       "array([  3.15420002e-01,  -3.50679994e-01,   4.29230005e-01,\n",
       "        -5.38250029e-01,  -1.84799999e-01,  -3.10820013e-01,\n",
       "         2.91960001e-01,  -7.10300028e-01,  -2.38670006e-01,\n",
       "         1.84710002e+00,  -3.64459991e-01,  -5.12820005e-01,\n",
       "         1.22100003e-01,   3.89090002e-01,  -7.32040033e-02,\n",
       "         3.54619995e-02,   3.32890004e-01,   6.64659977e-01,\n",
       "         2.71749999e-02,   4.20210004e-01,  -1.45199999e-01,\n",
       "         3.79909992e-01,  -6.05199993e-01,   1.06950000e-01,\n",
       "        -6.47159994e-01,  -1.07389996e-02,  -3.97540003e-01,\n",
       "         3.88570011e-01,  -2.01340005e-01,   6.98130012e-01,\n",
       "        -3.24110001e-01,   7.30849981e-01,  -1.09300002e-01,\n",
       "        -2.35110000e-01,   1.84819996e-01,  -1.15950003e-01,\n",
       "        -7.10030019e-01,  -2.29739994e-01,  -4.19790000e-01,\n",
       "         8.10039975e-03,  -1.05039999e-01,  -4.48020011e-01,\n",
       "        -7.39279985e-02,  -4.23799992e-01,   2.84819990e-01,\n",
       "        -7.45169967e-02,   9.81609970e-02,   6.46019995e-01,\n",
       "        -2.58320004e-01,  -2.04520002e-02,  -6.68630004e-02,\n",
       "         5.15009999e-01,   1.67579994e-01,   1.23290002e-01,\n",
       "         1.96360007e-01,   1.19580001e-01,  -1.82960004e-01,\n",
       "        -1.43250003e-01,  -2.77579993e-01,   5.05970009e-02,\n",
       "        -6.61220029e-02,  -1.89199999e-01,   3.33000004e-01,\n",
       "         2.53190011e-01,   6.63550019e-01,   6.67349994e-01,\n",
       "         4.99689996e-01,   1.54809996e-01,  -8.42470005e-02,\n",
       "        -2.29470000e-01,  -6.83669984e-01,  -2.97829986e-01,\n",
       "        -1.86509997e-01,  -4.71210003e-01,   1.82720006e-01,\n",
       "        -3.26040000e-01,  -6.80299997e-02,   7.00730026e-01,\n",
       "         3.31589997e-01,   7.03930035e-02,  -7.69869983e-01,\n",
       "         5.90690017e-01,   2.05919996e-01,   1.79759994e-01,\n",
       "         6.95249997e-03,   5.78549989e-02,   7.20470011e-01,\n",
       "        -7.72490025e-01,  -5.41880012e-01,  -1.21890001e-01,\n",
       "        -3.17339995e-03,  -1.59600005e-01,   1.69699997e-01,\n",
       "        -1.25459999e-01,   8.70689988e-01,  -4.64780003e-01,\n",
       "        -1.93020001e-01,  -4.56180006e-01,  -1.54190004e-01,\n",
       "         8.11900020e-01,  -2.05440000e-01,   3.94540012e-01,\n",
       "        -3.11780006e-01,  -6.43180013e-02,  -4.44430001e-02,\n",
       "        -5.83379984e-01,  -1.47919998e-01,   1.70830004e-02,\n",
       "         8.32390010e-01,  -1.12800002e-01,   5.78260012e-02,\n",
       "         1.70240000e-01,  -1.36350006e-01,  -2.88940012e-01,\n",
       "        -4.05900002e-01,  -5.06849997e-02,   4.98560011e-01,\n",
       "         6.08850010e-02,   1.94370002e-01,  -1.98109999e-01,\n",
       "        -2.23350003e-01,  -2.59089991e-02,   3.98460001e-01,\n",
       "         4.40869987e-01,   2.31950004e-02,   9.86659974e-02,\n",
       "        -1.30040005e-01,  -2.03390002e-01,  -4.29580003e-01,\n",
       "        -7.97600020e-03,  -3.20160002e-01,  -4.10939991e-01,\n",
       "        -1.03040002e-01,  -7.55649984e-01,   1.77480001e-02,\n",
       "        -2.00369999e-01,   1.71849996e-01,   2.17869997e-01,\n",
       "        -3.16850007e-01,   2.20679995e-02,  -2.55590010e+00,\n",
       "        -9.91149992e-02,   1.84340000e-01,   1.24480002e-01,\n",
       "        -5.94130009e-02,  -4.56489995e-02,   7.90180027e-01,\n",
       "         2.45560005e-01,  -1.50589999e-02,  -7.89960027e-01,\n",
       "         2.90870011e-01,  -3.94190013e-01,   3.76170009e-01,\n",
       "         1.57179996e-01,   5.13559997e-01,  -3.42189997e-01,\n",
       "         5.06279990e-02,  -3.32540005e-01,  -1.41570002e-01,\n",
       "         3.33550006e-01,   4.43980008e-01,  -2.54509985e-01,\n",
       "        -3.32010016e-02,  -2.09580004e-01,   3.88700008e-01,\n",
       "        -2.45649993e-01,   5.23909986e-01,   4.32469994e-01,\n",
       "        -4.17010009e-01,   2.90309995e-01,  -7.80009985e-01,\n",
       "         3.00999992e-02,  -6.14459999e-02,  -1.40290007e-01,\n",
       "        -5.53539991e-01,  -1.91750005e-01,   6.72789991e-01,\n",
       "        -1.11040004e-01,  -3.54860008e-01,  -2.86009997e-01,\n",
       "         1.17200002e-01,  -4.50210005e-01,   1.40039995e-01,\n",
       "        -5.74840009e-01,  -2.25309998e-01,   4.15719986e-01,\n",
       "        -1.59500003e-01,  -2.78770000e-01,   7.97849968e-02,\n",
       "         1.91200003e-02,  -9.83569980e-01,  -5.69980025e-01,\n",
       "        -3.40230018e-02,   1.73819996e-02,  -1.71569996e-02,\n",
       "        -2.82110006e-01,   1.55729994e-01,  -1.35560006e-01,\n",
       "        -2.62959987e-01,  -7.45710015e-01,   1.20150000e-01,\n",
       "         5.42339981e-01,   5.67829981e-02,  -7.56750032e-02,\n",
       "         2.18199998e-01,  -2.56790012e-01,   2.35520005e-01,\n",
       "        -2.71109995e-02,  -1.93419993e-01,  -3.10880005e-01,\n",
       "        -1.05999999e-01,   4.95119989e-01,   5.79320006e-02,\n",
       "         3.87730002e-01,   9.31600034e-02,  -1.37820005e-01,\n",
       "         2.42440000e-01,   3.80980015e-01,   9.11089999e-04,\n",
       "         8.83379996e-01,   4.38230008e-01,  -7.70410001e-02,\n",
       "         1.15410000e-01,   3.47020000e-01,   5.97850025e-01,\n",
       "         6.70120001e-01,  -6.09529987e-02,  -4.38719988e-02,\n",
       "        -4.07999992e-01,   7.57210016e-01,   2.47730002e-01,\n",
       "         8.89260024e-02,  -1.84929997e-01,  -5.23389995e-01,\n",
       "         8.58089998e-02,  -6.08799994e-01,  -7.74630010e-02,\n",
       "        -2.68290013e-01,  -3.90210003e-01,  -1.50020003e-01,\n",
       "         5.42970002e-01,  -4.10759985e-01,  -9.52150002e-02,\n",
       "        -2.97870010e-01,   1.00409999e-01,  -3.77739996e-01,\n",
       "         7.55110025e-01,  -4.39099997e-01,  -6.17219985e-01,\n",
       "        -1.03600001e+00,   6.96510017e-01,   1.41570002e-01,\n",
       "        -4.45329994e-01,   3.27019989e-01,   3.83060016e-02,\n",
       "         2.67650008e-01,   5.42420000e-02,  -3.02419998e-02,\n",
       "        -4.51330006e-01,   6.25050021e-03,   2.75040001e-01,\n",
       "        -5.24130017e-02,  -1.98699996e-01,  -1.78690001e-01,\n",
       "        -2.46580005e-01,  -3.73690009e-01,   2.61739999e-01,\n",
       "         4.14819986e-01,  -5.92769980e-01,   6.14459999e-02,\n",
       "         6.62610009e-02,   1.09700002e-01,  -1.43879995e-01,\n",
       "        -3.24420005e-01,  -3.90160014e-04,  -2.13919997e-01,\n",
       "         3.29629987e-01,   5.04019976e-01,   1.34540007e-01,\n",
       "        -5.61330020e-01,   1.04219997e+00,   5.89850008e-01,\n",
       "         1.44730002e-01,   1.77450001e-01,   1.61599994e-01,\n",
       "         3.32300007e-01,   2.29090005e-01,   1.57739997e-01,\n",
       "        -3.54629993e-01,  -4.76419985e-01,  -2.58219987e-01,\n",
       "         2.36770004e-01,  -4.02550012e-01,  -3.53639990e-01,\n",
       "        -1.66970000e-01,   7.06770003e-01,   8.42719972e-02,\n",
       "         1.14270002e-01,   5.82210004e-01,  -1.05590001e-01], dtype=float32)"
      ]
     },
     "execution_count": 9,
     "metadata": {},
     "output_type": "execute_result"
    }
   ],
   "source": [
    "nlp('king').vector"
   ]
  },
  {
   "cell_type": "code",
   "execution_count": 10,
   "metadata": {
    "scrolled": true,
    "slideshow": {
     "slide_type": "subslide"
    }
   },
   "outputs": [
    {
     "data": {
      "text/plain": [
       "array([ 0.10458702, -0.05152999, -0.01085299,  0.40603995,  0.111525  ,\n",
       "        0.03181005, -0.18277001,  0.10793996,  0.22586   ,  0.42549992,\n",
       "       -0.62051803,  0.09305897, -0.0758817 , -0.29067168, -0.29784101,\n",
       "       -0.43369001, -0.44859397,  0.21168   , -0.17273501,  0.24211   ,\n",
       "        0.20211001, -0.15502006, -0.04844499, -0.202636  , -0.21129996,\n",
       "        0.45776799,  0.03138995,  0.13294101, -0.53480601, -0.07134694,\n",
       "       -0.157518  , -0.05403006, -0.14246997, -0.77390599,  0.15866998,\n",
       "       -0.12601201, -0.19204   , -0.40347007,  0.05978   ,  0.52036041,\n",
       "        0.37191999, -0.252379  , -0.097138  , -0.40504098,  0.25123   ,\n",
       "       -0.03785798, -0.11933102, -0.00672996,  0.40257999,  0.02721703,\n",
       "       -0.29956898,  0.34834102, -0.15371901, -0.14056298,  0.17291501,\n",
       "        0.73967993, -0.0257776 , -0.28438202, -0.33745399,  0.12431702,\n",
       "        0.063307  , -0.39151499, -0.24294749,  0.3378177 ,  0.37893206,\n",
       "        0.14127994,  0.70388097,  0.021424  ,  0.142003  ,  0.20465   ,\n",
       "       -0.36599994, -0.14310999, -0.17243698, -0.00424001,  0.67148   ,\n",
       "       -0.17920549,  0.45753998,  0.17486003, -0.23000398,  0.06431001,\n",
       "        0.13716793, -0.17282701, -0.32512403,  0.22375101, -0.3474555 ,\n",
       "        0.44771501,  0.28867   , -0.14638105, -0.04995   , -0.437648  ,\n",
       "       -0.2236634 , -0.14245   ,  0.03281999, -0.16247103,  0.51248991,\n",
       "       -0.40227997, -0.150479  , -0.38445002,  0.359772  ,  0.30387995,\n",
       "        0.577236  ,  0.53445101,  0.281598  ,  0.126359  , -0.019406  ,\n",
       "       -0.26014996, -0.15996996, -0.15767002,  0.00154799,  0.195612  ,\n",
       "       -0.13352397,  0.01087999, -0.080301  , -0.20445602, -0.11846301,\n",
       "       -0.371925  ,  0.39347702,  0.26368502,  0.39265701,  0.48374   ,\n",
       "        0.06531   ,  0.068128  ,  0.11742002,  0.04229499,  0.10026699,\n",
       "        0.30375999,  0.06063001,  0.39369851, -0.10366529,  0.065814  ,\n",
       "        0.14065003,  0.17174399, -0.20236002, -0.55088001, -0.72287202,\n",
       "       -0.48885   , -0.37717   ,  0.07013199, -0.52825999,  0.096489  ,\n",
       "        0.59859991, -0.13812901, -0.11418399, -0.190035  ,  0.06799701,\n",
       "        0.02872499,  0.38754201,  0.00787   , -0.62338901, -0.09111011,\n",
       "       -0.22363999, -0.1886197 , -0.20118999,  0.22608899, -0.24934301,\n",
       "        0.08535001, -0.27039596,  0.30038005, -0.090203  , -0.14802799,\n",
       "        0.14603001,  0.21248001,  0.118833  , -0.07153228, -0.12797996,\n",
       "       -0.274443  ,  0.30433598,  0.29837996, -0.01640302,  0.11600998,\n",
       "       -0.33268997, -0.056754  ,  0.13773698, -0.18801799, -0.51105094,\n",
       "       -0.25610259, -0.07734999, -0.457643  ,  0.12696004, -0.25476858,\n",
       "        0.01485402, -0.27168003, -0.09315271, -0.18197   ,  0.46563497,\n",
       "        0.34944999,  0.27662   , -0.138596  ,  0.200928  , -0.34992003,\n",
       "       -0.48564997, -0.60399902, -0.18144301, -0.11616989,  0.129803  ,\n",
       "        0.02417099,  0.05545059,  0.117446  , -0.03544599, -0.57339001,\n",
       "        0.44310898,  0.33150995,  0.01238599, -0.21157703, -0.03491596,\n",
       "        0.26410997, -0.22768001, -0.25299799, -0.23517999,  0.48754001,\n",
       "        0.19483501, -0.27316999, -0.44070199,  0.36702901,  0.09925799,\n",
       "       -0.06908001, -0.14320281,  0.22666103,  0.2794511 ,  0.29843   ,\n",
       "        0.21248499, -0.63584298,  0.20785001,  0.48329499, -0.47914696,\n",
       "       -0.03455502,  0.34644902, -0.37480602, -0.15627   ,  0.12277907,\n",
       "       -0.04933499,  0.005468  ,  0.00519997, -0.37172398, -0.175451  ,\n",
       "       -0.18385059, -0.21175501, -0.31394401,  0.07360198, -0.01590204,\n",
       "       -0.17416   , -0.00090003,  0.11262399, -0.48282   , -0.10517   ,\n",
       "        0.05565304,  0.32160503, -0.24056101, -0.30389994, -0.50732309,\n",
       "        0.33911803, -0.23648998,  0.06108901,  0.23029798, -0.02688998,\n",
       "        0.08346   ,  0.17561206,  0.331848  , -0.09330803,  0.2918205 ,\n",
       "        0.277062  , -0.32242298, -0.002744  ,  0.36982   ,  0.51170999,\n",
       "       -0.39322001, -0.16557002, -0.18774   , -0.01507998, -0.28465101,\n",
       "       -0.07072806, -0.05853601, -0.06321001, -0.09849399, -0.09514015,\n",
       "       -0.23703995, -0.17930999,  0.38357297,  0.01018202,  0.10888296,\n",
       "        0.29964393,  0.12595999,  0.60580498,  0.04320699,  0.18855999,\n",
       "        0.63618499, -0.18775499,  0.42126399, -0.15406296, -0.36692598,\n",
       "        0.094318  ,  0.02511001,  0.06609299, -0.17440999,  0.00357999,\n",
       "        0.08757752,  0.04765201,  0.27466798,  0.74391007, -0.01412702], dtype=float32)"
      ]
     },
     "execution_count": 10,
     "metadata": {},
     "output_type": "execute_result"
    }
   ],
   "source": [
    "queen1 = nlp('king').vector - nlp('man').vector + nlp('woman').vector\n",
    "queen2 = nlp('queen').vector\n",
    "queen1 - queen2"
   ]
  },
  {
   "cell_type": "markdown",
   "metadata": {
    "slideshow": {
     "slide_type": "subslide"
    }
   },
   "source": [
    "### spacy: Word Vectors\n",
    "* Find n closest vectors in our vocabulary\n",
    "* Vocabulary is already nested by word length\n",
    "* `cosine = lambda v1, v2: np.dot(v1, v2) / (np.linalg.norm(v1) * np.linalg.norm(v2))`"
   ]
  },
  {
   "cell_type": "code",
   "execution_count": 45,
   "metadata": {
    "slideshow": {
     "slide_type": "subslide"
    }
   },
   "outputs": [],
   "source": [
    "def getSpacyFormulationsDemo(clue):\n",
    "    formulations = []\n",
    "    formulations.append([nlp.vocab[x] for x in clue.split() if x not in stopwords.words('english')])\n",
    "    formulations.append([nlp.vocab[x.lower_] for x in nlp(clue) if x.pos_ == \"NOUN\" or x.pos_ == \"PROPN\"])\n",
    "    formulations.append([nlp.vocab[x.lower_] for x in nlp(clue) if x.pos_ in [\"NOUN\",\"PROPN\",\"ADJ\",\"ADV\"] ])\n",
    "    formulations.append([nlp.vocab[x.lower_] for x in nlp(clue) if x.pos_ is not \"PART\"])\n",
    "    formulations.append([nlp.vocab[x.lemma_] for x in nlp(clue.lower()) if x.tag_ in [\"NNS\",\"NNPS\",\"NN\",\"NNP\"]])\n",
    "    if clue.find(',') != -1:\n",
    "        formulations += getSpacyFormulationsDemo(clue[:clue.find(',')])\n",
    "    if clue.find(' (') != -1:\n",
    "        formulations += getSpacyFormulationsDemo(clue[:clue.find(' (')])\n",
    "    return formulations\n",
    "\n",
    "def getSpacyCandidatesDemo(clue,length,vocab,ret_count):\n",
    "    vecs = [x.vector for x in clue]\n",
    "    vecsum = functools.reduce(lambda x,y: np.add(x,y),vecs)\n",
    "    vocab = [w for w in vocab if w not in clue and re.search(\"\\'\", w.lower_)==None]\n",
    "    vocab.sort(key=lambda w: cosine(w.vector, vecsum))\n",
    "    print({w.orth_.lower() for w in vocab[-1*ret_count:]})"
   ]
  },
  {
   "cell_type": "code",
   "execution_count": 46,
   "metadata": {},
   "outputs": [
    {
     "name": "stdout",
     "output_type": "stream",
     "text": [
      "-->  ['plan', \"that's\", 'hatched']\n",
      "{'agenda', 'decide', 'scheme', 'future', 'should', 'intend', 'agreed', 'policy', 'effort', 'budget'}\n",
      "-->  ['plan']\n",
      "{'agenda', 'decide', 'scheme', 'future', 'should', 'intend', 'agreed', 'policy', 'effort', 'budget'}\n",
      "-->  ['plan', 'that']\n",
      "{'decide', 'though', 'simply', 'rather', 'enough', 'future', 'should', 'really', 'likely', 'reason'}\n",
      "-->  ['plan', 'that', \"'s\", 'hatched']\n",
      "{'wanted', 'saying', 'though', 'simply', 'rather', 'enough', 'future', 'should', 'really', 'reason'}\n",
      "-->  ['plan']\n",
      "{'agenda', 'decide', 'scheme', 'future', 'should', 'intend', 'agreed', 'policy', 'effort', 'budget'}\n"
     ]
    }
   ],
   "source": [
    "for formulation in getSpacyFormulationsDemo(\"Plan that's hatched\"):\n",
    "    print('--> ',[x.lower_ for x in formulation])\n",
    "    getSpacyCandidatesDemo(formulation,6,vocab[6],10)"
   ]
  },
  {
   "cell_type": "code",
   "execution_count": 33,
   "metadata": {
    "scrolled": true,
    "slideshow": {
     "slide_type": "subslide"
    }
   },
   "outputs": [
    {
     "name": "stdout",
     "output_type": "stream",
     "text": [
      "-->  ['counterpart', \"'if',\", 'computer', 'science']\n",
      "{'data', 'tech', 'mind', 'kind', 'arts', 'work', 'math', 'idea'}\n",
      "-->  ['counterpart', 'computer', 'science']\n",
      "{'data', 'tech', 'mind', 'kind', 'arts', 'work', 'math', 'idea'}\n",
      "-->  ['counterpart', 'computer', 'science']\n",
      "{'data', 'tech', 'mind', 'kind', 'arts', 'work', 'math', 'idea'}\n",
      "-->  ['counterpart', 'to', \"'\", 'if', \"'\", ',', 'in', 'computer', 'science']\n",
      "{'they', 'else', 'want', 'even', 'when', 'kind', 'what', 'that'}\n",
      "-->  ['counterpart', 'computer', 'science']\n",
      "{'data', 'tech', 'mind', 'kind', 'arts', 'work', 'math', 'idea'}\n",
      "-->  ['counterpart', \"'if'\"]\n",
      "{'derp', 'zerg', 'gifs', 'prob', 'ikke', 'mech', 'mais', 'mobo'}\n",
      "-->  ['counterpart']\n",
      "{'derp', 'zerg', 'gifs', 'prob', 'ikke', 'mech', 'mais', 'mobo'}\n",
      "-->  ['counterpart']\n",
      "{'derp', 'zerg', 'gifs', 'prob', 'ikke', 'mech', 'mais', 'mobo'}\n",
      "-->  ['counterpart', 'to', \"'\", 'if', \"'\"]\n",
      "{'they', 'else', 'will', 'even', 'want', 'when', 'make', 'that'}\n",
      "-->  ['counterpart']\n",
      "{'derp', 'zerg', 'gifs', 'prob', 'ikke', 'mech', 'mais', 'mobo'}\n",
      "\n",
      "When we just search for \"if\":\n",
      "{'else', 'even', 'when', 'sure', 'does', 'what', 'then', 'that'}\n"
     ]
    },
    {
     "name": "stderr",
     "output_type": "stream",
     "text": [
      "/Users/alec/.pyenv/versions/3.6.2/lib/python3.6/site-packages/ipykernel_launcher.py:11: RuntimeWarning: invalid value encountered in float_scalars\n",
      "  # This is added back by InteractiveShellApp.init_path()\n"
     ]
    }
   ],
   "source": [
    "for formulation in getSpacyFormulationsDemo(\"Counterpart to 'if', in computer science\"):\n",
    "    print('--> ',[x.lower_ for x in formulation])\n",
    "    getSpacyCandidatesDemo(formulation,4,vocab[4],8)\n",
    "\n",
    "print('\\nWhen we just search for \"if\":')\n",
    "getSpacyCandidatesDemo(nlp('if'),4,vocab[4],8)"
   ]
  },
  {
   "cell_type": "code",
   "execution_count": 34,
   "metadata": {
    "slideshow": {
     "slide_type": "subslide"
    }
   },
   "outputs": [
    {
     "name": "stdout",
     "output_type": "stream",
     "text": [
      "{'cat', 'pet', 'dog', 'eat', 'pig', 'cow', 'egg', 'soy', 'fed', 'zoo'}\n"
     ]
    }
   ],
   "source": [
    "getSpacyCandidatesDemo(nlp('dairy animal'),3,vocab[3],10)"
   ]
  },
  {
   "cell_type": "code",
   "execution_count": 35,
   "metadata": {
    "slideshow": {
     "slide_type": "fragment"
    }
   },
   "outputs": [
    {
     "name": "stdout",
     "output_type": "stream",
     "text": [
      "{'raw', 'oil', 'eat', 'pig', 'cow', 'egg', 'hay', 'soy', 'fat', 'fed'}\n"
     ]
    }
   ],
   "source": [
    "getSpacyCandidatesDemo(nlp('dairy'),3,vocab[3],10)"
   ]
  },
  {
   "cell_type": "code",
   "execution_count": 36,
   "metadata": {
    "slideshow": {
     "slide_type": "fragment"
    }
   },
   "outputs": [
    {
     "name": "stdout",
     "output_type": "stream",
     "text": [
      "{'cat', 'fox', 'fur', 'toy', 'pet', 'dog', 'pig', 'cow', 'rat', 'zoo'}\n"
     ]
    }
   ],
   "source": [
    "getSpacyCandidatesDemo(nlp('animal'),3,vocab[3],10)"
   ]
  },
  {
   "cell_type": "markdown",
   "metadata": {
    "slideshow": {
     "slide_type": "slide"
    }
   },
   "source": [
    "## IV. My Solver"
   ]
  },
  {
   "cell_type": "markdown",
   "metadata": {
    "slideshow": {
     "slide_type": "subslide"
    }
   },
   "source": [
    "### Utility Functions\n",
    "* Web scraping via BeautifulSoup\n",
    "* OCR via pytesseract"
   ]
  },
  {
   "cell_type": "markdown",
   "metadata": {
    "slideshow": {
     "slide_type": "subslide"
    }
   },
   "source": [
    "### OCR via pytesseract\n",
    "![Monday's Puzzle](images/1002-17.png)"
   ]
  },
  {
   "cell_type": "code",
   "execution_count": 47,
   "metadata": {
    "slideshow": {
     "slide_type": "subslide"
    }
   },
   "outputs": [
    {
     "name": "stdout",
     "output_type": "stream",
     "text": [
      "F I S H   F L I P   H A R S H\n",
      "O H H I   E O N S   A L I K E\n",
      "C O O P   M U S I C N O T E S\n",
      "A P T   F U N     U S N E W S\n",
      "L E T T E R G R A D E S      \n",
      "    O E R   E E L   L O F T S\n",
      "S C H E M E   C A N     R I A\n",
      "C H E M I C A L S Y M B O L S\n",
      "A I L     O U I   C E A S E S\n",
      "B A L E S   D N A   A L T    \n",
      "      M O V I E R A T I N G S\n",
      "M A R B L E     T I S   I R A\n",
      "B L O O D T Y P E S   A X E L\n",
      "A B O D E   E A R L   H O E S\n",
      "S A T Y R   S T Y E   A N K A\n"
     ]
    }
   ],
   "source": [
    "def parseAndPrintImageDemo(n_squares, img_path):\n",
    "    im = Image.open(img_path)\n",
    "    im = Image.composite(im, Image.new('RGB', im.size, 'white'), im)\n",
    "    pps = im.size[0]/n_squares\n",
    "    for i in range(n_squares):\n",
    "        row = list()\n",
    "        for j in range(n_squares):\n",
    "            boxOuter = (j*pps,i*pps,j*pps+pps,i*pps+pps)\n",
    "            tile = im.crop(boxOuter)\n",
    "            if not tile.getbbox():\n",
    "                tileText = \" \"\n",
    "            else:\n",
    "                tileInner = tile.crop((7,9,27,27))\n",
    "                tileText = pytesseract.image_to_string(tileInner,config=\"-psm 10 -l eng -c tessedit_char_whitelist=\"+string.ascii_uppercase)\n",
    "                tileText = \"I\" if tileText == \"\" else tileText\n",
    "            row.append(tileText)\n",
    "        print(\" \".join(row))\n",
    "parseAndPrintImageDemo(15, './images/1002-17.png')"
   ]
  },
  {
   "cell_type": "markdown",
   "metadata": {
    "slideshow": {
     "slide_type": "subslide"
    }
   },
   "source": [
    "### How far it gets with one puzzle\n",
    "* Less than half of clues have the correct answer among their candidates\n",
    "* Monday, October 2, 2017: 42%\n",
    "* Difficult to find the correct answer by cross-referencing"
   ]
  },
  {
   "cell_type": "code",
   "execution_count": 24,
   "metadata": {
    "slideshow": {
     "slide_type": "fragment"
    }
   },
   "outputs": [
    {
     "name": "stdout",
     "output_type": "stream",
     "text": [
      "hits: 32 / 76 = 0.42105263157894735\n"
     ]
    }
   ],
   "source": [
    "cand_methods = ['cand_kg','cand_wk','cand_vec','cand_wn','cand_dct']\n",
    "\n",
    "def getHitCountDemo(clues):\n",
    "    success = []\n",
    "    tally = []\n",
    "    for i in clues:\n",
    "        score = [0 for x in cand_methods]\n",
    "        add = False\n",
    "        for index,j in enumerate(cand_methods):\n",
    "            if i.get(j) and re.sub(\" \",\"\",i['answer'].lower()) in [x.lower() for x in i[j]]:\n",
    "                add = True\n",
    "                score[index] = 1\n",
    "        if add:\n",
    "            success.append(i)\n",
    "            tally.append(score)\n",
    "    print('hits:',len(success),'/',len(clues),'=',len(success)/len(clues))\n",
    "    return success,tally\n",
    "\n",
    "puzzle = json.load(open('./data/merge_1002-17_cands.json','r'))\n",
    "clues = puzzle['clues']\n",
    "success,tally = getHitCountDemo(clues)"
   ]
  },
  {
   "cell_type": "markdown",
   "metadata": {
    "slideshow": {
     "slide_type": "subslide"
    }
   },
   "source": [
    "### Which methods are generating hits?"
   ]
  },
  {
   "cell_type": "code",
   "execution_count": 40,
   "metadata": {
    "slideshow": {
     "slide_type": "fragment"
    }
   },
   "outputs": [
    {
     "data": {
      "text/plain": [
       "cand_kg      7\n",
       "cand_wk     24\n",
       "cand_vec     1\n",
       "cand_wn      5\n",
       "cand_dct     3\n",
       "dtype: int64"
      ]
     },
     "execution_count": 40,
     "metadata": {},
     "output_type": "execute_result"
    }
   ],
   "source": [
    "df = pd.DataFrame(tally,index=map(lambda x: x['answer'],success),columns=cand_methods)\n",
    "df.sum(0)"
   ]
  },
  {
   "cell_type": "code",
   "execution_count": 41,
   "metadata": {
    "slideshow": {
     "slide_type": "subslide"
    }
   },
   "outputs": [
    {
     "data": {
      "text/html": [
       "<div>\n",
       "<style>\n",
       "    .dataframe thead tr:only-child th {\n",
       "        text-align: right;\n",
       "    }\n",
       "\n",
       "    .dataframe thead th {\n",
       "        text-align: left;\n",
       "    }\n",
       "\n",
       "    .dataframe tbody tr th {\n",
       "        vertical-align: top;\n",
       "    }\n",
       "</style>\n",
       "<table border=\"1\" class=\"dataframe\">\n",
       "  <thead>\n",
       "    <tr style=\"text-align: right;\">\n",
       "      <th></th>\n",
       "      <th>cand_kg</th>\n",
       "      <th>cand_wk</th>\n",
       "      <th>cand_vec</th>\n",
       "      <th>cand_wn</th>\n",
       "      <th>cand_dct</th>\n",
       "    </tr>\n",
       "  </thead>\n",
       "  <tbody>\n",
       "    <tr>\n",
       "      <th>FISH</th>\n",
       "      <td>0</td>\n",
       "      <td>1</td>\n",
       "      <td>0</td>\n",
       "      <td>0</td>\n",
       "      <td>0</td>\n",
       "    </tr>\n",
       "    <tr>\n",
       "      <th>FLIP</th>\n",
       "      <td>0</td>\n",
       "      <td>0</td>\n",
       "      <td>0</td>\n",
       "      <td>1</td>\n",
       "      <td>0</td>\n",
       "    </tr>\n",
       "    <tr>\n",
       "      <th>APT</th>\n",
       "      <td>0</td>\n",
       "      <td>0</td>\n",
       "      <td>0</td>\n",
       "      <td>0</td>\n",
       "      <td>1</td>\n",
       "    </tr>\n",
       "    <tr>\n",
       "      <th>FUN</th>\n",
       "      <td>0</td>\n",
       "      <td>0</td>\n",
       "      <td>0</td>\n",
       "      <td>1</td>\n",
       "      <td>1</td>\n",
       "    </tr>\n",
       "    <tr>\n",
       "      <th>SCHEME</th>\n",
       "      <td>0</td>\n",
       "      <td>0</td>\n",
       "      <td>1</td>\n",
       "      <td>0</td>\n",
       "      <td>0</td>\n",
       "    </tr>\n",
       "    <tr>\n",
       "      <th>CAN</th>\n",
       "      <td>0</td>\n",
       "      <td>1</td>\n",
       "      <td>0</td>\n",
       "      <td>0</td>\n",
       "      <td>0</td>\n",
       "    </tr>\n",
       "    <tr>\n",
       "      <th>CEASES</th>\n",
       "      <td>0</td>\n",
       "      <td>0</td>\n",
       "      <td>0</td>\n",
       "      <td>1</td>\n",
       "      <td>0</td>\n",
       "    </tr>\n",
       "    <tr>\n",
       "      <th>BALES</th>\n",
       "      <td>0</td>\n",
       "      <td>1</td>\n",
       "      <td>0</td>\n",
       "      <td>0</td>\n",
       "      <td>0</td>\n",
       "    </tr>\n",
       "    <tr>\n",
       "      <th>DNA</th>\n",
       "      <td>0</td>\n",
       "      <td>1</td>\n",
       "      <td>0</td>\n",
       "      <td>0</td>\n",
       "      <td>0</td>\n",
       "    </tr>\n",
       "    <tr>\n",
       "      <th>MARBLE</th>\n",
       "      <td>1</td>\n",
       "      <td>1</td>\n",
       "      <td>0</td>\n",
       "      <td>0</td>\n",
       "      <td>0</td>\n",
       "    </tr>\n",
       "    <tr>\n",
       "      <th>IRA</th>\n",
       "      <td>1</td>\n",
       "      <td>1</td>\n",
       "      <td>0</td>\n",
       "      <td>0</td>\n",
       "      <td>0</td>\n",
       "    </tr>\n",
       "    <tr>\n",
       "      <th>EARL</th>\n",
       "      <td>1</td>\n",
       "      <td>1</td>\n",
       "      <td>0</td>\n",
       "      <td>0</td>\n",
       "      <td>0</td>\n",
       "    </tr>\n",
       "    <tr>\n",
       "      <th>ANKA</th>\n",
       "      <td>1</td>\n",
       "      <td>1</td>\n",
       "      <td>0</td>\n",
       "      <td>0</td>\n",
       "      <td>0</td>\n",
       "    </tr>\n",
       "    <tr>\n",
       "      <th>FEMUR</th>\n",
       "      <td>0</td>\n",
       "      <td>1</td>\n",
       "      <td>0</td>\n",
       "      <td>0</td>\n",
       "      <td>0</td>\n",
       "    </tr>\n",
       "    <tr>\n",
       "      <th>INS</th>\n",
       "      <td>0</td>\n",
       "      <td>1</td>\n",
       "      <td>0</td>\n",
       "      <td>0</td>\n",
       "      <td>0</td>\n",
       "    </tr>\n",
       "    <tr>\n",
       "      <th>PSI</th>\n",
       "      <td>0</td>\n",
       "      <td>1</td>\n",
       "      <td>0</td>\n",
       "      <td>0</td>\n",
       "      <td>0</td>\n",
       "    </tr>\n",
       "    <tr>\n",
       "      <th>HANSEL</th>\n",
       "      <td>0</td>\n",
       "      <td>1</td>\n",
       "      <td>0</td>\n",
       "      <td>0</td>\n",
       "      <td>0</td>\n",
       "    </tr>\n",
       "    <tr>\n",
       "      <th>ALONSO</th>\n",
       "      <td>1</td>\n",
       "      <td>1</td>\n",
       "      <td>0</td>\n",
       "      <td>0</td>\n",
       "      <td>0</td>\n",
       "    </tr>\n",
       "    <tr>\n",
       "      <th>RITE</th>\n",
       "      <td>0</td>\n",
       "      <td>1</td>\n",
       "      <td>0</td>\n",
       "      <td>0</td>\n",
       "      <td>0</td>\n",
       "    </tr>\n",
       "    <tr>\n",
       "      <th>HESS</th>\n",
       "      <td>0</td>\n",
       "      <td>1</td>\n",
       "      <td>0</td>\n",
       "      <td>0</td>\n",
       "      <td>0</td>\n",
       "    </tr>\n",
       "    <tr>\n",
       "      <th>CUD</th>\n",
       "      <td>0</td>\n",
       "      <td>1</td>\n",
       "      <td>0</td>\n",
       "      <td>0</td>\n",
       "      <td>0</td>\n",
       "    </tr>\n",
       "    <tr>\n",
       "      <th>FROSTNIXON</th>\n",
       "      <td>0</td>\n",
       "      <td>1</td>\n",
       "      <td>0</td>\n",
       "      <td>0</td>\n",
       "      <td>0</td>\n",
       "    </tr>\n",
       "    <tr>\n",
       "      <th>SASS</th>\n",
       "      <td>0</td>\n",
       "      <td>0</td>\n",
       "      <td>0</td>\n",
       "      <td>0</td>\n",
       "      <td>1</td>\n",
       "    </tr>\n",
       "    <tr>\n",
       "      <th>AUDI</th>\n",
       "      <td>0</td>\n",
       "      <td>1</td>\n",
       "      <td>0</td>\n",
       "      <td>0</td>\n",
       "      <td>0</td>\n",
       "    </tr>\n",
       "    <tr>\n",
       "      <th>MEATS</th>\n",
       "      <td>0</td>\n",
       "      <td>1</td>\n",
       "      <td>0</td>\n",
       "      <td>0</td>\n",
       "      <td>0</td>\n",
       "    </tr>\n",
       "    <tr>\n",
       "      <th>BALI</th>\n",
       "      <td>0</td>\n",
       "      <td>1</td>\n",
       "      <td>0</td>\n",
       "      <td>0</td>\n",
       "      <td>0</td>\n",
       "    </tr>\n",
       "    <tr>\n",
       "      <th>EMBODY</th>\n",
       "      <td>0</td>\n",
       "      <td>0</td>\n",
       "      <td>0</td>\n",
       "      <td>1</td>\n",
       "      <td>0</td>\n",
       "    </tr>\n",
       "    <tr>\n",
       "      <th>GREEK</th>\n",
       "      <td>0</td>\n",
       "      <td>1</td>\n",
       "      <td>0</td>\n",
       "      <td>0</td>\n",
       "      <td>0</td>\n",
       "    </tr>\n",
       "    <tr>\n",
       "      <th>MBAS</th>\n",
       "      <td>0</td>\n",
       "      <td>1</td>\n",
       "      <td>0</td>\n",
       "      <td>0</td>\n",
       "      <td>0</td>\n",
       "    </tr>\n",
       "    <tr>\n",
       "      <th>ALBA</th>\n",
       "      <td>1</td>\n",
       "      <td>1</td>\n",
       "      <td>0</td>\n",
       "      <td>0</td>\n",
       "      <td>0</td>\n",
       "    </tr>\n",
       "    <tr>\n",
       "      <th>ROOT</th>\n",
       "      <td>1</td>\n",
       "      <td>1</td>\n",
       "      <td>0</td>\n",
       "      <td>0</td>\n",
       "      <td>0</td>\n",
       "    </tr>\n",
       "    <tr>\n",
       "      <th>YES</th>\n",
       "      <td>0</td>\n",
       "      <td>0</td>\n",
       "      <td>0</td>\n",
       "      <td>1</td>\n",
       "      <td>0</td>\n",
       "    </tr>\n",
       "  </tbody>\n",
       "</table>\n",
       "</div>"
      ],
      "text/plain": [
       "            cand_kg  cand_wk  cand_vec  cand_wn  cand_dct\n",
       "FISH              0        1         0        0         0\n",
       "FLIP              0        0         0        1         0\n",
       "APT               0        0         0        0         1\n",
       "FUN               0        0         0        1         1\n",
       "SCHEME            0        0         1        0         0\n",
       "CAN               0        1         0        0         0\n",
       "CEASES            0        0         0        1         0\n",
       "BALES             0        1         0        0         0\n",
       "DNA               0        1         0        0         0\n",
       "MARBLE            1        1         0        0         0\n",
       "IRA               1        1         0        0         0\n",
       "EARL              1        1         0        0         0\n",
       "ANKA              1        1         0        0         0\n",
       "FEMUR             0        1         0        0         0\n",
       "INS               0        1         0        0         0\n",
       "PSI               0        1         0        0         0\n",
       "HANSEL            0        1         0        0         0\n",
       "ALONSO            1        1         0        0         0\n",
       "RITE              0        1         0        0         0\n",
       "HESS              0        1         0        0         0\n",
       "CUD               0        1         0        0         0\n",
       "FROSTNIXON        0        1         0        0         0\n",
       "SASS              0        0         0        0         1\n",
       "AUDI              0        1         0        0         0\n",
       "MEATS             0        1         0        0         0\n",
       "BALI              0        1         0        0         0\n",
       "EMBODY            0        0         0        1         0\n",
       "GREEK             0        1         0        0         0\n",
       "MBAS              0        1         0        0         0\n",
       "ALBA              1        1         0        0         0\n",
       "ROOT              1        1         0        0         0\n",
       "YES               0        0         0        1         0"
      ]
     },
     "execution_count": 41,
     "metadata": {},
     "output_type": "execute_result"
    }
   ],
   "source": [
    "df"
   ]
  },
  {
   "cell_type": "markdown",
   "metadata": {
    "slideshow": {
     "slide_type": "slide"
    }
   },
   "source": [
    "## V. Conclusion"
   ]
  },
  {
   "cell_type": "markdown",
   "metadata": {
    "slideshow": {
     "slide_type": "subslide"
    }
   },
   "source": [
    "### Cross-referencing\n",
    "* Limited if less than 50% of answers are in the candidates\n",
    "* Is there a threshold above which I can start winnowing down?\n",
    "\n",
    "### Improving the hit rate\n",
    "* More formulations (previously added ~10%)\n",
    "* Other APIs? ML?\n",
    "* Pattern to the non-hits\n",
    "* Systems to handle multi-word answers, pairs of answers"
   ]
  },
  {
   "cell_type": "markdown",
   "metadata": {
    "slideshow": {
     "slide_type": "subslide"
    }
   },
   "source": [
    "## Thank You!\n",
    "\n",
    "#### Source code: [github.com/anbnyc/xword](github.com/anbnyc/xword)\n",
    "\n",
    "#### Find me: [@alecbarrett](www.twitter.com/alecbarrett)"
   ]
  }
 ],
 "metadata": {
  "celltoolbar": "Slideshow",
  "kernelspec": {
   "display_name": "Python 2",
   "language": "python",
   "name": "python2"
  },
  "language_info": {
   "codemirror_mode": {
    "name": "ipython",
    "version": 3
   },
   "file_extension": ".py",
   "mimetype": "text/x-python",
   "name": "python",
   "nbconvert_exporter": "python",
   "pygments_lexer": "ipython3",
   "version": "3.6.2"
  }
 },
 "nbformat": 4,
 "nbformat_minor": 2
}
